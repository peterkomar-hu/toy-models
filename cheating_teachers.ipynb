{
 "cells": [
  {
   "cell_type": "code",
   "execution_count": 1,
   "metadata": {},
   "outputs": [],
   "source": [
    "import numpy as np\n",
    "import matplotlib.pyplot as plt\n",
    "from scipy.stats import betabinom\n",
    "from scipy.stats import norm, expon"
   ]
  },
  {
   "cell_type": "markdown",
   "metadata": {},
   "source": [
    "## Step 1. Generate example data\n",
    "\n",
    "Assumptions\n",
    "\n",
    "* Test scores are dispered on the scale of 0 - 100. Let's use a beta-binomial distribution for this. The parameter choice (a, b) = (4, 4) seems to produce a realistic looking distribution of test scores.\n",
    "* Passing threshold is 20, and scores that would fall under this threshold are brough back to a low passing value, greater than 20, but not much greater.\n",
    "* Let's assume an exponential distribution for this, with a minimum of 20, and a scale of 2.0\n"
   ]
  },
  {
   "cell_type": "code",
   "execution_count": 2,
   "metadata": {},
   "outputs": [],
   "source": [
    "np.random.seed(123456)\n",
    "\n",
    "students = 1000\n",
    "true_scores = betabinom.rvs(100, 4, 4, size=students)\n",
    "corrected_scores = true_scores.copy()\n",
    "threshold = 20\n",
    "exponential_scale = 2\n",
    "below_threshold = (corrected_scores < threshold)\n",
    "corrected_scores[below_threshold] = threshold \\\n",
    "    + np.round(np.random.exponential(scale=exponential_scale, size=np.sum(below_threshold)))"
   ]
  },
  {
   "cell_type": "code",
   "execution_count": 3,
   "metadata": {},
   "outputs": [
    {
     "data": {
      "image/png": "[encoded data removed]",
      "text/plain": [
       "<Figure size 432x288 with 1 Axes>"
      ]
     },
     "metadata": {},
     "output_type": "display_data"
    }
   ],
   "source": [
    "bins = np.linspace(0, 100, 51)\n",
    "plt.hist(true_scores, bins=bins, alpha=0.5, label='true score')\n",
    "plt.hist(corrected_scores, bins=bins, alpha=0.5, label='corrected score')\n",
    "plt.legend()\n",
    "plt.show()"
   ]
  },
  {
   "cell_type": "markdown",
   "metadata": {},
   "source": [
    "One thousand students, the corrected score already shows a suspicious peak at 20. Next, we construct a Bayesian model to estimate the number of students that would have failed the test, should there be no corrections. Let's find the maximum likelihood estimate of the following two parameters:\n",
    "\n",
    "1. Mean of true scores, mu\n",
    "2. Standard deviation of true scores, sigma\n",
    "\n",
    "While we fix the spread of the corrected scores, s (which is the same as the scale of the exponential)"
   ]
  },
  {
   "cell_type": "markdown",
   "metadata": {},
   "source": [
    "## Step 2. Construct likelihood function\n",
    "* x_true: true score\n",
    "* x: observed score\n",
    "* x0: threshold\n",
    "\n",
    "Assuming a normal distribution for the true scores, the joint likelihood of mu, sigma, s is\n",
    "\n",
    "    P(x | mu, sigma, s) = sum_{x_true} P(x, x_true| mu, sigma, s)\n",
    "    \n",
    "    = P(x| x_true >= x0, mu, sigma) * P(x_true >= x0) \n",
    "      + P(x | x_true < x0, s) * P(x_true < x0)\n",
    "    \n",
    "    = Normal(x | mu, sigma) * Heaviside(x - x0)\n",
    "      + Exponential(x-x0 | s) * cdf_Normal(x0 | mu, sigma)\n",
    "\n",
    "And the log likelihood\n",
    "\n",
    "    log P (x | mu, sigma, s) = logsumexp([\n",
    "        -1/2 * log(sigma^2) - (x - mu)^2 / (2*sigma^2),\n",
    "        - log(s) - (x - x0) / s + log(1/2 * (1 + erf((x - mu) / (sqrt(2) * sigma)))\n",
    "        ])"
   ]
  },
  {
   "cell_type": "code",
   "execution_count": 4,
   "metadata": {},
   "outputs": [],
   "source": [
    "import torch"
   ]
  },
  {
   "cell_type": "code",
   "execution_count": 5,
   "metadata": {},
   "outputs": [],
   "source": [
    "def logP(x, mu, sigma, sqrt_s, x0):\n",
    "    sigma_sq = sigma**2\n",
    "    s = sqrt_s**2\n",
    "    div = x - mu\n",
    "    normal_logterms = -0.5 * torch.log(sigma_sq) - div**2 / (2*sigma_sq)\n",
    "    exp_logterms = - torch.log(s) - (x - x0) / s \\\n",
    "        + torch.log(0.5 * (1.0 + torch.erf((x0-mu) / torch.sqrt(2 * sigma_sq))))\n",
    "    logterms = torch.stack((normal_logterms, exp_logterms))\n",
    "    logP = torch.sum(torch.logsumexp(logterms, dim=0))\n",
    "    return logP"
   ]
  },
  {
   "cell_type": "code",
   "execution_count": 6,
   "metadata": {},
   "outputs": [
    {
     "data": {
      "text/plain": [
       "tensor(-3378.5383, grad_fn=<SumBackward0>)"
      ]
     },
     "execution_count": 6,
     "metadata": {},
     "output_type": "execute_result"
    }
   ],
   "source": [
    "mu = torch.tensor(50.0, requires_grad=True)\n",
    "sigma = torch.tensor(25.0, requires_grad=True)\n",
    "sqrt_s = torch.tensor(1.5, requires_grad=False)\n",
    "x = torch.tensor(corrected_scores, requires_grad=False)\n",
    "x0 = torch.tensor(threshold, requires_grad=False)\n",
    "optimizer = torch.optim.Adam([mu, sigma])\n",
    "logP(x, mu, sigma, sqrt_s, x0)"
   ]
  },
  {
   "cell_type": "markdown",
   "metadata": {},
   "source": [
    "## Step 3. Optimize the negative log likelihood"
   ]
  },
  {
   "cell_type": "code",
   "execution_count": 7,
   "metadata": {},
   "outputs": [],
   "source": [
    "for i in range(20000):\n",
    "    optimizer.zero_grad()\n",
    "    mll = -logP(x, mu, sigma, sqrt_s, x0)\n",
    "    mll.backward()\n",
    "    optimizer.step()"
   ]
  },
  {
   "cell_type": "code",
   "execution_count": 8,
   "metadata": {},
   "outputs": [
    {
     "data": {
      "text/plain": [
       "(tensor(49.9327, requires_grad=True),\n",
       " tensor(17.1202, requires_grad=True),\n",
       " tensor(2.2500),\n",
       " tensor(-3275.7271, grad_fn=<SumBackward0>))"
      ]
     },
     "execution_count": 8,
     "metadata": {},
     "output_type": "execute_result"
    }
   ],
   "source": [
    "mu, sigma, sqrt_s**2, logP(x, mu, sigma, sqrt_s, x0)"
   ]
  },
  {
   "cell_type": "markdown",
   "metadata": {},
   "source": [
    "## Step 4. Plot and summarize the results"
   ]
  },
  {
   "cell_type": "markdown",
   "metadata": {},
   "source": [
    "Let's plot the fitted PDFs on top of the data"
   ]
  },
  {
   "cell_type": "code",
   "execution_count": 9,
   "metadata": {},
   "outputs": [
    {
     "data": {
      "image/png": "[encoded data removed]",
      "text/plain": [
       "<Figure size 432x288 with 1 Axes>"
      ]
     },
     "metadata": {},
     "output_type": "display_data"
    }
   ],
   "source": [
    "bins = np.linspace(0, 100, 51)\n",
    "plt.hist(corrected_scores, bins=bins, alpha=0.5, label='corrected score')\n",
    "x_draw = np.linspace(0, 100, 1000)\n",
    "b = bins[1] - bins[0]\n",
    "N = len(corrected_scores)\n",
    "p1 = norm.pdf(x_draw, loc=float(mu), scale=float(sigma))\n",
    "p2 = expon.pdf(x_draw, loc=float(x0), scale=float(sqrt_s**2))  \\\n",
    "         * norm.cdf(float(x0), loc=float(mu), scale=float(sigma))\n",
    "plt.plot(x_draw, N*b * p1, \n",
    "         'b-', label='uncorrected scores (fitted)')\n",
    "plt.plot(x_draw, \n",
    "         N*b * (p1 + p2),\n",
    "        'r-', label='corrected scores (fitted)', zorder=-1)\n",
    "plt.legend(loc=1)\n",
    "plt.ylim([0, 65])\n",
    "plt.show()"
   ]
  },
  {
   "cell_type": "markdown",
   "metadata": {},
   "source": [
    "And compute the fraction of of tests the scores of which was corrected."
   ]
  },
  {
   "cell_type": "code",
   "execution_count": 10,
   "metadata": {},
   "outputs": [
    {
     "data": {
      "text/plain": [
       "0.040199138702271785"
      ]
     },
     "execution_count": 10,
     "metadata": {},
     "output_type": "execute_result"
    }
   ],
   "source": [
    "norm.cdf(float(x0), loc=float(mu), scale=float(sigma))"
   ]
  },
  {
   "cell_type": "code",
   "execution_count": null,
   "metadata": {},
   "outputs": [],
   "source": []
  }
 ],
 "metadata": {
  "kernelspec": {
   "display_name": "Python 3",
   "language": "python",
   "name": "python3"
  },
  "language_info": {
   "codemirror_mode": {
    "name": "ipython",
    "version": 3
   },
   "file_extension": ".py",
   "mimetype": "text/x-python",
   "name": "python",
   "nbconvert_exporter": "python",
   "pygments_lexer": "ipython3",
   "version": "3.6.5"
  }
 },
 "nbformat": 4,
 "nbformat_minor": 2
}
